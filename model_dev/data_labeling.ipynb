{
 "cells": [
  {
   "cell_type": "code",
   "execution_count": null,
   "metadata": {},
   "outputs": [],
   "source": [
    "import glob\n",
    "import os, shutil\n",
    "from multi_label_pigeon import multi_label_annotate\n",
    "from IPython.display import display, Image"
   ]
  },
  {
   "cell_type": "code",
   "execution_count": null,
   "metadata": {},
   "outputs": [],
   "source": [
    "# Grab raw data and sort files -- files are sorted for smoother labeling due to timeseries continuity\n",
    "folder = 'data/set3/'\n",
    "files = glob.glob(folder+'/*/*.jpg')\n",
    "files.sort()   # 577 stop\n",
    "files = files[502:]\n",
    "# Create label options\n",
    "options = {\n",
    "           'traffic level': ['0', '1', '2', '3', '4'],\n",
    "           'rv or sprinter': ['0', '1'],\n",
    "           'raining': ['0', '1'],\n",
    "           'snowing': ['0', '1'],\n",
    "           }\n",
    "\n",
    "# Label data:\n",
    "annotations = multi_label_annotate(files, options=options, display_fn=lambda filename:display(Image(filename)))"
   ]
  },
  {
   "cell_type": "code",
   "execution_count": null,
   "metadata": {},
   "outputs": [],
   "source": [
    "annotations"
   ]
  },
  {
   "cell_type": "code",
   "execution_count": null,
   "metadata": {},
   "outputs": [],
   "source": [
    "# Folders\n",
    "master = 'data/'\n",
    "traffic_folder = 'traffic_level/'\n",
    "lanes_folder = 'lanes_open/'\n",
    "rv_folder = 'rvs/'\n",
    "snowing_folder = 'snowing/'\n",
    "raining_folder = 'raining/'\n",
    "\n",
    "for item in annotations:\n",
    "    # Handle traffic level:\n",
    "    # try:\n",
    "    #     # if not annotations[item]['traffic level'][0]== '1':\n",
    "    #     #     print(item)\n",
    "    #     if annotations[item]['traffic level'][0] == '0':  # no cars\n",
    "    #         shutil.copy(item, master+traffic_folder+'0/') \n",
    "    #     elif annotations[item]['traffic level'][0] == '1':  # 0 <\n",
    "    #         shutil.copy(item, master+traffic_folder+'1/')\n",
    "    #     elif annotations[item]['traffic level'][0] == '2':\n",
    "    #         shutil.copy(item, master+traffic_folder+'2/')\n",
    "    #     elif annotations[item]['traffic level'][0] == '3':\n",
    "    #         shutil.copy(item, master+traffic_folder+'3/')\n",
    "    #     elif annotations[item]['traffic level'][0] == '4':\n",
    "    #         shutil.copy(item, master+traffic_folder+'4/')\n",
    "    # except:\n",
    "    #     pass\n",
    "    \n",
    "    # try:\n",
    "    #     # Handle lanes open:\n",
    "    #     if annotations[item]['lanes open'][0] == 'cant tell':\n",
    "    #         shutil.copy(item, master+lanes_folder+'1/')\n",
    "    #     elif annotations[item]['lanes open'][0] == '2':\n",
    "    #         shutil.copy(item, master+lanes_folder+'2/')\n",
    "    #     elif annotations[item]['lanes open'][0] == '3':\n",
    "    #         shutil.copy(item, master+lanes_folder+'3/')\n",
    "    #     elif annotations[item]['lanes open'][0] == '4':\n",
    "    #         shutil.copy(item, master+lanes_folder+'4/')\n",
    "    #     elif annotations[item]['lanes open'][0] == '5':\n",
    "    #         shutil.copy(item, master+lanes_folder+'5/')\n",
    "    # except:\n",
    "    #     pass\n",
    "\n",
    "    try:\n",
    "        # Handle rvs\n",
    "        print(annotations[item]['rv or sprinter'][0])\n",
    "        if annotations[item]['rv or sprinter'][0] == '1':\n",
    "            print('yes')\n",
    "            shutil.copy(item, master+rv_folder)\n",
    "    except:\n",
    "        pass\n",
    "    \n",
    "    try:\n",
    "        # Handle snowing\n",
    "        if annotations[item]['raining'][0] == '0':\n",
    "            shutil.copy(item, master+raining_folder+'0/')\n",
    "        elif annotations[item]['raining'][0] == '1':\n",
    "            shutil.copy(item, master+raining_folder+'1/')\n",
    "    except:\n",
    "        pass\n",
    "\n",
    "    try:\n",
    "        # Handle snowing\n",
    "        if annotations[item]['snowing'][0] == '0':\n",
    "            shutil.copy(item, master+snowing_folder+'0/')\n",
    "        elif annotations[item]['snowing'][0] == '1':\n",
    "            shutil.copy(item, master+snowing_folder+'1/')\n",
    "    except:\n",
    "        pass"
   ]
  }
 ],
 "metadata": {
  "interpreter": {
   "hash": "8f7a39c5250b58b1275332e4bad00808864e4d9272e66b854fb378f9f62d8898"
  },
  "kernelspec": {
   "display_name": "Python 3.7.10 64-bit ('base': conda)",
   "name": "python3"
  },
  "language_info": {
   "codemirror_mode": {
    "name": "ipython",
    "version": 3
   },
   "file_extension": ".py",
   "mimetype": "text/x-python",
   "name": "python",
   "nbconvert_exporter": "python",
   "pygments_lexer": "ipython3",
   "version": "3.7.10"
  },
  "metadata": {
   "interpreter": {
    "hash": "b479388775595c952e4cb9213a9f631fcd8a8d5cc1373a3de039eb856b933076"
   }
  },
  "orig_nbformat": 2
 },
 "nbformat": 4,
 "nbformat_minor": 2
}
